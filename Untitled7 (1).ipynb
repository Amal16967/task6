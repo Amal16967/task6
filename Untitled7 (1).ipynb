{
 "cells": [
  {
   "cell_type": "code",
   "execution_count": 56,
   "id": "a0b27681-8193-478f-bd4f-9ecc445da78b",
   "metadata": {},
   "outputs": [
    {
     "name": "stdout",
     "output_type": "stream",
     "text": [
      "ali\n",
      "mohamed\n",
      "hana\n"
     ]
    },
    {
     "name": "stdin",
     "output_type": "stream",
     "text": [
      "write the name you're searching for ali\n"
     ]
    },
    {
     "name": "stdout",
     "output_type": "stream",
     "text": [
      "the number for ali is 01013425678\n"
     ]
    }
   ],
   "source": [
    "contacts={\"ali\":\"01013425678\",\"mohamed\":\"011238945637\",\"hana\":\"01148765679\"}\n",
    "for contacts_book in contacts :\n",
    "    print(contacts_book)\n",
    "search =input(\"write the name you're searching for\")\n",
    "if search in contacts:\n",
    "    phone_number = contacts[search]\n",
    "    print(f\"the number for {search} is {phone_number}\")\n",
    "else:\n",
    "    print(\"number is not found\")"
   ]
  },
  {
   "cell_type": "code",
   "execution_count": 54,
   "id": "1650b3ae-d630-46dd-9a41-c8a792a52207",
   "metadata": {},
   "outputs": [
    {
     "name": "stdout",
     "output_type": "stream",
     "text": [
      "amal\n",
      "ahmed\n",
      "alia\n",
      "86.33333333333333\n"
     ]
    }
   ],
   "source": [
    "students={\"name\":\"amal\",\"grades\":[98,99,100]} ,{\"name\":\"ahmed\",\"grades\":[87,98,82]},{\"name\":\"alia\",\"grades\":[74,87,98]}\n",
    "for student in students:\n",
    "  student_name = student[\"name\"]\n",
    "  student_grade = student[\"grades\"]\n",
    "  print(student_name)\n",
    "average_grade= sum (student_grade) / len (student_grade)\n",
    "print(average_grade)"
   ]
  },
  {
   "cell_type": "code",
   "execution_count": 7,
   "id": "1e7c1266-cd83-4379-97e8-71473907f337",
   "metadata": {},
   "outputs": [
    {
     "name": "stdout",
     "output_type": "stream",
     "text": [
      ".. FACE YOUR FEARS\n",
      "amal\n"
     ]
    },
    {
     "data": {
      "text/plain": [
       "True"
      ]
     },
     "execution_count": 7,
     "metadata": {},
     "output_type": "execute_result"
    }
   ],
   "source": [
    "class book :\n",
    "    def __init__(self,title,author,ISBN,avalibility):\n",
    "      self.title=title\n",
    "      self.author=author\n",
    "      self.ISBN=ISBN\n",
    "      self.avalibility=avalibility\n",
    "     \n",
    "book1= book(\"FACE YOUR FEARS\",\"ANDREW MICHELE\",\"..\",\"yes\")\n",
    "print(book1.ISBN ,book1.title)\n",
    "\n",
    "\n",
    "class memory:\n",
    "    def __init__(self,name,membership_id,borrowed_books=None):\n",
    "      self.name=name\n",
    "      self.membership_id=membership_id\n",
    "      self.borrowed_books=borrowed_books\n",
    "      if borrowed_books is None:\n",
    "         self.borrowed_books =[]\n",
    "      else:\n",
    "         self.borrowed_books=borrowed_books\n",
    "    def borrow_book(self,book_title):\n",
    "      if borrow_book not in self.borrowed_books:\n",
    "          print(book_title)\n",
    "      else:\n",
    "          print(\"it's already borrowed\")\n",
    "    def return_book (self,book_title):\n",
    "     if book_title in  self.borrowed_books:\n",
    "        self.borrowed_books.remove(book_title)\n",
    "        print(f\"the {book_title} is returned\")\n",
    "     else:\n",
    "           print (\"already is in use\")\n",
    "member1=memory(\"amal\",\"101\",\"dreams\")\n",
    "member2=memory(\"ahmed\",\"102\",\"chimstry\")\n",
    "member3=memory(\"mohamed\",\"103\",\"mathmatics\")\n",
    "print(member1.name)\n",
    "member1.borrowed_books==(\"dreams\")"
   ]
  },
  {
   "cell_type": "code",
   "execution_count": 21,
   "id": "94197da2-16d7-4a6f-bdae-b2fb6136f6f3",
   "metadata": {},
   "outputs": [
    {
     "data": {
      "text/plain": [
       "'true'"
      ]
     },
     "execution_count": 21,
     "metadata": {},
     "output_type": "execute_result"
    }
   ],
   "source": [
    "def prime_number(n):\n",
    "    if n<2:\n",
    "        return \"false\"\n",
    "    for i in range(2, int(n**0.5) + 1) :\n",
    "      if n % i == 0:\n",
    "          return \"false\"\n",
    "    return \"true\"\n",
    "prime_number(2)"
   ]
  },
  {
   "cell_type": "code",
   "execution_count": 25,
   "id": "9ed72a1a-6686-459a-98f6-05d24ddac880",
   "metadata": {},
   "outputs": [
    {
     "data": {
      "text/plain": [
       "8"
      ]
     },
     "execution_count": 25,
     "metadata": {},
     "output_type": "execute_result"
    }
   ],
   "source": [
    "def calculator(a,b,operation):\n",
    "    if operation == \"add\":\n",
    "        return a+b\n",
    "    elif operation == \"subtract\":\n",
    "        return a-b\n",
    "    elif operation == \"multiply\":\n",
    "        return a*b\n",
    "    elif operation == \"divide\":\n",
    "        return a/b\n",
    "calculator(3,5,\"add\")"
   ]
  },
  {
   "cell_type": "code",
   "execution_count": 6,
   "id": "0718f3c1-577f-44dc-96d6-da1464f751b9",
   "metadata": {},
   "outputs": [
    {
     "data": {
      "text/plain": [
       "'amal'"
      ]
     },
     "execution_count": 6,
     "metadata": {},
     "output_type": "execute_result"
    }
   ],
   "source": [
    "def are_you (name):\n",
    "     if name == \"amal\":\n",
    "        return \"amal\"\n",
    "are_you(\"amal\")"
   ]
  },
  {
   "cell_type": "code",
   "execution_count": null,
   "id": "018a3ade-1f50-4410-820a-bc5968cfbd5e",
   "metadata": {},
   "outputs": [],
   "source": []
  }
 ],
 "metadata": {
  "kernelspec": {
   "display_name": "Python 3 (ipykernel)",
   "language": "python",
   "name": "python3"
  },
  "language_info": {
   "codemirror_mode": {
    "name": "ipython",
    "version": 3
   },
   "file_extension": ".py",
   "mimetype": "text/x-python",
   "name": "python",
   "nbconvert_exporter": "python",
   "pygments_lexer": "ipython3",
   "version": "3.13.5"
  }
 },
 "nbformat": 4,
 "nbformat_minor": 5
}
